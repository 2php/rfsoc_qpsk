{
 "cells": [
  {
   "cell_type": "markdown",
   "metadata": {},
   "source": [
    "![Demo architecture](img/QPSK_system_block_diagrams_Tx_only.svg)"
   ]
  },
  {
   "cell_type": "markdown",
   "metadata": {},
   "source": [
    "## Initialisation\n",
    "\n",
    "Let's include pynq libraries and our own drivers"
   ]
  },
  {
   "cell_type": "code",
   "execution_count": null,
   "metadata": {},
   "outputs": [],
   "source": [
    "from pynq import Overlay\n",
    "from qpsk_tx import QPSK_TX_Core, QPSK_TX\n",
    "from qpsk_rx import QPSK_RX_Core, QPSK_RX\n",
    "from rfsoc_plots import *\n",
    "from dma_gen import DmaGen\n",
    "from xrfclk import xrfclk_set_freq\n",
    "from xrfdc import *"
   ]
  },
  {
   "cell_type": "markdown",
   "metadata": {},
   "source": [
    "Set up LMX clock synthesizer to 204.8 MHz"
   ]
  },
  {
   "cell_type": "code",
   "execution_count": null,
   "metadata": {},
   "outputs": [],
   "source": [
    "xrfclk_set_freq(204.8)"
   ]
  },
  {
   "cell_type": "markdown",
   "metadata": {},
   "source": [
    "Now we're ready to load our bitstream to the PL"
   ]
  },
  {
   "cell_type": "code",
   "execution_count": null,
   "metadata": {},
   "outputs": [],
   "source": [
    "ol = Overlay(\"rfsoc_pynq_demo_v5.1.5.bit\")"
   ]
  },
  {
   "cell_type": "markdown",
   "metadata": {},
   "source": [
    "### Configuring the RF Data Converters\n",
    "\n",
    "We are going to use one of the DAC blocks to transmit our signal.\n",
    "We'll need to generate a clock using one of the on-board synthesizers, tell the data converters about it, and set an NCO frequency --- controlling our signal's carrier frequency. \n",
    "\n",
    "![Diagram of on-board synth, DAC block with PLL, and NCO](img/RF_DAC.svg)"
   ]
  },
  {
   "cell_type": "markdown",
   "metadata": {},
   "source": [
    "Make our RF data converter object"
   ]
  },
  {
   "cell_type": "code",
   "execution_count": null,
   "metadata": {},
   "outputs": [],
   "source": [
    "dc = ol.usp_rf_data_converter_0\n",
    "dac_tile  = dc.dac_tiles[1]\n",
    "dac_block = dac_tile.blocks[2]"
   ]
  },
  {
   "cell_type": "markdown",
   "metadata": {},
   "source": [
    "Set DAC's clock source and NCO/mixer frequency"
   ]
  },
  {
   "cell_type": "code",
   "execution_count": null,
   "metadata": {},
   "outputs": [],
   "source": [
    "dac_tile.ShutDown()\n",
    "dac_tile.DynamicPLLConfig(XRF_CLK_SRC_PLL,204.8,204.8)\n",
    "\n",
    "dac_mixer = {\"Freq\": 84,\n",
    "             \"CoarseMixFreq\": XRF_DC_COARSE_MIX_SAMPLE_FREQ_BY_TWO,\n",
    "             \"CoarseMixMode\": XRF_DC_COARSE_MIX_MODE_C2C_C2R,\n",
    "             \"FineMixerMode\": XRF_DC_FINE_MIXER_MOD_COMPLX_TO_REAL}\n",
    "dac_block.MixerSettings = dac_mixer\n",
    "dac_tile.SetupFIFO(True)\n",
    "dac_tile.StartUp()"
   ]
  },
  {
   "cell_type": "markdown",
   "metadata": {},
   "source": [
    "See `xrfdc.py` for implementation, showing how easily we can wrap existing C drivers as object oriented python drivers!"
   ]
  },
  {
   "cell_type": "markdown",
   "metadata": {},
   "source": [
    "### Initialise our QPSK TX Design"
   ]
  },
  {
   "cell_type": "markdown",
   "metadata": {},
   "source": [
    "Finally, we make an instance of a driver for the QPSK transmit logic. This controls the signal processing performed on the signal, as well as tapping off the data path, allowing us to interactively plot the intermediate signals.\n",
    "\n",
    "See `qpsk_tx.py` for the implementation of the driver, exposing registers as object properties using some data-driven generation"
   ]
  },
  {
   "cell_type": "code",
   "execution_count": null,
   "metadata": {},
   "outputs": [],
   "source": [
    "tx = ol.qpsk_tx"
   ]
  },
  {
   "cell_type": "markdown",
   "metadata": {},
   "source": [
    "## Visualising internal signals"
   ]
  },
  {
   "cell_type": "markdown",
   "metadata": {},
   "source": [
    "Now that the transmitter is configured and constantly running in the background, we can capture intermediate signals and visualise them interactively.\n",
    "\n",
    "Our raw, binary data is carried by two parts (\"I\" and \"Q\") in a complex signal.  These each have a value of 1 or -1, conveying 1 bit of information.\n",
    "\n",
    "Let's make a time domain plot of this signal --- straight after our `symbol generation` block."
   ]
  },
  {
   "cell_type": "markdown",
   "metadata": {},
   "source": [
    "### Raw QPSK symbols\n",
    "\n",
    "Here we generate a time domain plot that updates in real-time. We make use of Pynq's DMA drivers, and a python Timer for scheduled transfers."
   ]
  },
  {
   "cell_type": "code",
   "execution_count": null,
   "metadata": {},
   "outputs": [],
   "source": [
    "cplot = IQTimePlot(tx.getManySymbols(N=10), 500, resampling_fun=resample_pick)\n",
    "#cplot.set_line_mode(markers=True, lines=True)\n",
    "\n",
    "dg = DmaGen(cplot.add_data, tx.getSymbols, 0.05)\n",
    "ipw.VBox([cplot.get_widget(), \n",
    "          ipw.HBox(GraphControls(dg))])"
   ]
  },
  {
   "cell_type": "markdown",
   "metadata": {},
   "source": [
    "We can stream in more live data using the play/stop buttons.\n",
    "\n",
    "Alright, cool! But changing this signal instantaneously from -1 to 1 means there's a near infinite bandwidth (i.e. has components in all frequencies!). To help suppress this for successful transmission, we perform some `pulse shaping`.\n",
    "\n",
    "### Pulse shaping\n",
    "\n",
    "Next we make the same plot, but with data from after our pulse shaping unit. First we'll see this in the time domain, then we will look at the same signal in the frequency domain."
   ]
  },
  {
   "cell_type": "code",
   "execution_count": null,
   "metadata": {},
   "outputs": [],
   "source": [
    "iq_plot = IQTimePlot(tx.getManyShapedTime(N=10), 4000,w=800)\n",
    "iq_dg = DmaGen(iq_plot.add_data, tx.getShapedTime, 0.05)\n",
    "\n",
    "fa_plot = HWFreqPlot(tx.getShapedFFT(), 4000, avg_n=4,w=800)\n",
    "fa_dg = DmaGen(fa_plot.add_frame, tx.getShapedFFT, 0.3)\n",
    "\n",
    "tab1 = ipw.Tab([ipw.VBox([iq_plot.get_widget(), ipw.HBox(GraphControls(iq_dg))]),\n",
    "                ipw.VBox([fa_plot.get_widget(), ipw.HBox(GraphControls(fa_dg))])\n",
    "               ])\n",
    "tab1.set_title(0, 'Time domain')\n",
    "tab1.set_title(1, 'Frequency domain')\n",
    "tab1"
   ]
  },
  {
   "cell_type": "markdown",
   "metadata": {},
   "source": [
    "## Dynamic Control\n",
    "\n",
    "We can also use widgets to control our PL settings visually. For example, our mixer's NCO frequency and the gain of the signal.\n",
    "\n",
    "First, let's write some JSON that describes our settings and their valid ranges."
   ]
  },
  {
   "cell_type": "code",
   "execution_count": null,
   "metadata": {},
   "outputs": [],
   "source": [
    "from configuration import Configuration\n",
    "import json\n",
    "\n",
    "schema_json = \"\"\"\n",
    "{\n",
    "  \"title\": \"TX Settings\",\n",
    "  \"type\": \"object\",\n",
    "  \"properties\": {\n",
    "    \"Freq\": {\n",
    "      \"description\": \"NCO Frequency (MHz)\",\n",
    "      \"type\": \"number\",\n",
    "      \"minimum\": 0.0,\n",
    "      \"maximum\": 100.0,\n",
    "      \"default\": 84.0\n",
    "    },\n",
    "    \"Gain\": {\n",
    "      \"description\": \"Relative Gain\",\n",
    "      \"type\": \"number\",\n",
    "      \"minimum\": 0.0,\n",
    "      \"maximum\": 1.0,\n",
    "      \"default\": 1\n",
    "    }\n",
    "  }\n",
    "}\n",
    "\"\"\"\n"
   ]
  },
  {
   "cell_type": "markdown",
   "metadata": {},
   "source": [
    "Now, let's define a function that will take a dictionary of these settings and apply them to our system. We must ensure that only one instance of this is run at a given time (using Python's `Lock()`) because our driver isn't thread safe (yet)."
   ]
  },
  {
   "cell_type": "code",
   "execution_count": null,
   "metadata": {},
   "outputs": [],
   "source": [
    "from threading import Thread, Lock\n",
    "\n",
    "tx_mutex = Lock()\n",
    "\n",
    "def update_tx_settings(config):\n",
    "    # Acquire lock for mutual exclusion on RF driver\n",
    "    if tx_mutex.acquire(blocking=False):\n",
    "        # Now work in a try block so we will always release the lock, even if our code fails\n",
    "        try:\n",
    "            if 'Gain' in config.keys():\n",
    "                tx.axi_qpsk_tx.output_gain = int(config['Gain']*(2**32-1))\n",
    "            if 'Freq' in config.keys():\n",
    "                dac_tile.ShutDown()\n",
    "                mixer_cfg = dac_block.MixerSettings\n",
    "                mixer_cfg['Freq'] = config['Freq']\n",
    "                dac_block.MixerSettings = mixer_cfg\n",
    "                dac_tile.StartUp()\n",
    "        except:\n",
    "            pass\n",
    "        # Remember to release the lock\n",
    "        tx_mutex.release()"
   ]
  },
  {
   "cell_type": "markdown",
   "metadata": {},
   "source": [
    "Finally we can make our widget and play with the values.\n",
    "\n",
    "See the effect of changing the gain in the FFT and time domain signal. The effect of the NCO mixer is a bit more subtle --- keep an eye out for a look of suppressed horror on Kenny's face as his receiver gets out of sync!"
   ]
  },
  {
   "cell_type": "code",
   "execution_count": null,
   "metadata": {},
   "outputs": [],
   "source": [
    "cfg = Configuration(json.loads(schema_json))\n",
    "gui = cfg.interact(callback=update_tx_settings)\n",
    "display(gui)"
   ]
  },
  {
   "cell_type": "markdown",
   "metadata": {},
   "source": [
    "# QPSK Receiver\n",
    "\n",
    "Now that the transmitter is configured, we start to play with the receiver side.\n",
    "\n",
    "![Demo architecture](img/QPSK_system_block_diagrams_Rx_only.svg)"
   ]
  },
  {
   "cell_type": "markdown",
   "metadata": {},
   "source": [
    "## Config\n",
    "\n",
    "First, we configure the RF ADC block. The ADC tile's PLL is configured, and make sure to match the block's mixer frequency with the transmitting side! For us that's 84 MHz unless you've been playing with the sliders above..."
   ]
  },
  {
   "cell_type": "code",
   "execution_count": null,
   "metadata": {},
   "outputs": [],
   "source": [
    "adc_tile  = dc.adc_tiles[0]\n",
    "adc_block = adc_tile.blocks[0]"
   ]
  },
  {
   "cell_type": "code",
   "execution_count": null,
   "metadata": {},
   "outputs": [],
   "source": [
    "adc_tile.ShutDown()\n",
    "adc_tile.DynamicPLLConfig(XRF_CLK_SRC_PLL,204.8,1024)\n",
    "\n",
    "adc_mixer = {\"Freq\": 84.000,\n",
    "             \"CoarseMixFreq\": XRF_DC_COARSE_MIX_SAMPLE_FREQ_BY_TWO,\n",
    "             \"CoarseMixMode\": 2,\n",
    "             \"FineMixerMode\": 3,\n",
    "             \"EventSource\": 2}\n",
    "\n",
    "adc_block.MixerSettings = adc_mixer\n",
    "adc_tile.SetupFIFO(True)\n",
    "adc_tile.StartUp()"
   ]
  },
  {
   "cell_type": "code",
   "execution_count": null,
   "metadata": {},
   "outputs": [],
   "source": [
    "rx = ol.qpsk_rx"
   ]
  },
  {
   "cell_type": "markdown",
   "metadata": {},
   "source": [
    "## Decimated signal\n",
    "\n",
    "Now we can start inspecting some of the received signals.\n",
    "Below, we can grab data from multiple parts of our RX signal path and plot them in the time domain, frequency domain, or as a constellation.\n",
    "\n",
    "Feel free to change the first line to swap between inspecting the raw signal after decimation, after coarse synchronisation, or after the RRC."
   ]
  },
  {
   "cell_type": "code",
   "execution_count": null,
   "metadata": {},
   "outputs": [],
   "source": [
    "taps = {\n",
    "    'Decimated': \n",
    "      {'get': rx.getDecimated,    'getMany': rx.getManyDecimated,    'fs':1024},\n",
    "    'CoarseSynced': \n",
    "      {'get': rx.getCoarseSynced, 'getMany': rx.getManyCoarseSynced, 'fs':4096},\n",
    "    'RRCed': \n",
    "      {'get': rx.getRRCed,        'getMany': rx.getManyRRCed,        'fs':16384}\n",
    "}\n",
    "\n",
    "tap = 'Decimated'\n",
    "#     ^^^^^^^^^^^\n",
    "#    Pick between Decimated, CoarseSynced, RRCed, or Data\n",
    "\n",
    "f=taps[tap]['get']\n",
    "d=taps[tap]['getMany']()\n",
    "fs=taps[tap]['fs']\n",
    "\n",
    "f_plot = IQFreqPlot(f(), fs)\n",
    "f_dg = DmaGen(f_plot.add_frame, f, 0.3)\n",
    "\n",
    "iq_plot = IQTimePlot(d, fs, w=800)\n",
    "iq_dg = DmaGen(iq_plot.add_data, f, 0.05)\n",
    "\n",
    "c_plot = IQConstellationPlot(d, plotrange=(0, len(d)-1), fade=True)\n",
    "c_dg = DmaGen(c_plot.add_data, f, 0.05)\n",
    "\n",
    "tab1 = ipw.Tab([ipw.VBox([iq_plot.get_widget(), ipw.HBox(GraphControls(iq_dg))]),\n",
    "                ipw.VBox([f_plot.get_widget(), ipw.HBox(GraphControls(f_dg))]),\n",
    "                ipw.VBox([c_plot.get_widget(), ipw.HBox(GraphControls(c_dg))]),])\n",
    "tab1.set_title(0, 'Time domain')\n",
    "tab1.set_title(1, 'Frequency domain')\n",
    "tab1.set_title(2, 'Constellation')\n",
    "tab1"
   ]
  },
  {
   "cell_type": "markdown",
   "metadata": {},
   "source": [
    "# Output data\n",
    "\n",
    "Finally we can plot a constellation of the final, synchronised signal, showing the 4 constellations expected of QPSK. The transparency of each sample represents its \"age\", as there in no explicit time axis for constellation plots. On our test system, ~20 frames per second is achievable."
   ]
  },
  {
   "cell_type": "code",
   "execution_count": null,
   "metadata": {},
   "outputs": [],
   "source": [
    "# Pick between getDecimated, getCoarseSynced, getRRCed, or getData\n",
    "d=rx.getManyData()\n",
    "fs=500\n",
    "\n",
    "iq_plot = IQTimePlot(d, fs, w=800)\n",
    "iq_dg = DmaGen(iq_plot.add_data, rx.getData, 0.05)\n",
    "\n",
    "c_plot = IQConstellationPlot(d, plotrange=(0, len(d)-1), fade=True)\n",
    "c_dg = DmaGen(c_plot.add_data, rx.getData, 0.05)\n",
    "\n",
    "tab1 = ipw.Tab([ipw.VBox([c_plot.get_widget(), ipw.HBox(GraphControls(c_dg))]),\n",
    "                ipw.VBox([iq_plot.get_widget(), ipw.HBox(GraphControls(iq_dg))])])\n",
    "tab1.set_title(0, 'Constellation')\n",
    "tab1.set_title(1, 'Time domain')\n",
    "tab1"
   ]
  },
  {
   "cell_type": "markdown",
   "metadata": {},
   "source": [
    "## Scratch pad\n",
    "\n",
    "Everything below this point is not part of the main demo --- just an environment for testing and having a play around."
   ]
  },
  {
   "cell_type": "code",
   "execution_count": null,
   "metadata": {},
   "outputs": [],
   "source": [
    "from IPython.display import Image\n",
    "Image(\"img/combined.png\")"
   ]
  },
  {
   "cell_type": "markdown",
   "metadata": {},
   "source": [
    "## Profiling of plotting code\n",
    "\n",
    "Note: need to pip install line_profiler before this will work.\n",
    "\n",
    "Very useful approach for spotting any server-side bottleneck in our live plots.\n",
    "Cell below is marked as \"Raw\", so we can \"Run all cells\" without breaking anything."
   ]
  },
  {
   "cell_type": "raw",
   "metadata": {},
   "source": [
    "f = rx.getData\n",
    "\n",
    "def plotTest():\n",
    "    for x in range(0,10):\n",
    "        c_plot.add_data(f())\n",
    "        \n",
    "%load_ext line_profiler\n",
    "%lprun -f c_plot.add_data -f f -f plotTest plotTest()"
   ]
  },
  {
   "cell_type": "markdown",
   "metadata": {},
   "source": [
    "...or alternatively, just use a simple timer with no line-by-line feedback"
   ]
  },
  {
   "cell_type": "raw",
   "metadata": {},
   "source": [
    "%timeit -n 100 iq_plot.add_data(tx.getSymbols())"
   ]
  }
 ],
 "metadata": {
  "kernelspec": {
   "display_name": "Python 3",
   "language": "python",
   "name": "python3"
  },
  "language_info": {
   "codemirror_mode": {
    "name": "ipython",
    "version": 3
   },
   "file_extension": ".py",
   "mimetype": "text/x-python",
   "name": "python",
   "nbconvert_exporter": "python",
   "pygments_lexer": "ipython3",
   "version": "3.7.2"
  }
 },
 "nbformat": 4,
 "nbformat_minor": 2
}
