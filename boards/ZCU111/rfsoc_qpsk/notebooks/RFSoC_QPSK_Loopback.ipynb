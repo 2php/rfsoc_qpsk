{
 "cells": [
  {
   "cell_type": "markdown",
   "metadata": {},
   "source": [
    "![Demo architecture](img/QPSK_system_block_diagrams_Tx_only.svg)"
   ]
  },
  {
   "cell_type": "markdown",
   "metadata": {},
   "source": [
    "## Initialisation\n",
    "\n",
    "Let's include pynq libraries and our own drivers"
   ]
  },
  {
   "cell_type": "code",
   "execution_count": null,
   "metadata": {},
   "outputs": [],
   "source": [
    "import xrfdc\n",
    "import ipywidgets as ipw\n",
    "\n",
    "from rfsoc_qpsk import qpsk_overlay, sdr_plots, dma_timer, dict_widget"
   ]
  },
  {
   "cell_type": "markdown",
   "metadata": {},
   "source": [
    "Now we're ready to load our bitstream to the PL"
   ]
  },
  {
   "cell_type": "code",
   "execution_count": null,
   "metadata": {},
   "outputs": [],
   "source": [
    "ol = qpsk_overlay.QpskOverlay()"
   ]
  },
  {
   "cell_type": "markdown",
   "metadata": {},
   "source": [
    "### Configuring the RF Data Converters\n",
    "\n",
    "We are going to use one of the DAC blocks to transmit our signal.\n",
    "We'll need to generate a clock using one of the on-board synthesizers, tell the data converters about it, and set an NCO frequency --- controlling our signal's carrier frequency. \n",
    "\n",
    "![Diagram of on-board synth, DAC block with PLL, and NCO](img/RF_DAC.svg)"
   ]
  },
  {
   "cell_type": "markdown",
   "metadata": {},
   "source": [
    "Make our RF data converter object"
   ]
  },
  {
   "cell_type": "markdown",
   "metadata": {},
   "source": [
    "Set DAC's clock source and NCO/mixer frequency"
   ]
  },
  {
   "cell_type": "code",
   "execution_count": null,
   "metadata": {},
   "outputs": [],
   "source": [
    "ol.dac_block.MixerSettings = {\n",
    "    'CoarseMixFreq':  xrfdc.COARSE_MIX_BYPASS,\n",
    "    'EventSource':    xrfdc.EVNT_SRC_IMMEDIATE,\n",
    "    'FineMixerScale': xrfdc.MIXER_SCALE_1P0,\n",
    "    'Freq':           84.0,\n",
    "    'MixerMode':      xrfdc.MIXER_MODE_C2R,\n",
    "    'MixerType':      xrfdc.MIXER_TYPE_FINE,\n",
    "    'PhaseOffset':    0.0\n",
    "}"
   ]
  },
  {
   "cell_type": "markdown",
   "metadata": {},
   "source": [
    "See `xrfdc.py` for implementation, showing how easily we can wrap existing C drivers as object oriented python drivers!"
   ]
  },
  {
   "cell_type": "markdown",
   "metadata": {},
   "source": [
    "### Initialise our QPSK TX Design"
   ]
  },
  {
   "cell_type": "markdown",
   "metadata": {},
   "source": [
    "Finally, we make an instance of a driver for the QPSK transmit logic. This controls the signal processing performed on the signal, as well as tapping off the data path, allowing us to interactively plot the intermediate signals.\n",
    "\n",
    "See `qpsk_tx.py` for the implementation of the driver, exposing registers as object properties using some data-driven generation"
   ]
  },
  {
   "cell_type": "markdown",
   "metadata": {},
   "source": [
    "## Visualising internal signals"
   ]
  },
  {
   "cell_type": "markdown",
   "metadata": {},
   "source": [
    "Now that the transmitter is configured and constantly running in the background, we can capture intermediate signals and visualise them interactively.\n",
    "\n",
    "Our raw, binary data is carried by two parts (\"I\" and \"Q\") in a complex signal.  These each have a value of 1 or -1, conveying 1 bit of information.\n",
    "\n",
    "Let's make a time domain plot of this signal --- straight after our `symbol generation` block."
   ]
  },
  {
   "cell_type": "markdown",
   "metadata": {},
   "source": [
    "### Raw QPSK symbols\n",
    "\n",
    "Here we generate a time domain plot that updates in real-time. We make use of Pynq's DMA drivers, and a python Timer for scheduled transfers."
   ]
  },
  {
   "cell_type": "code",
   "execution_count": null,
   "metadata": {},
   "outputs": [],
   "source": [
    "cplot = sdr_plots.IQTimePlot(ol.qpsk_tx.get_many_symbols(N=10), 500,\n",
    "                            resampling_fun=sdr_plots.resample_pick)\n",
    "\n",
    "dg = dma_timer.DmaTimer(cplot.add_data, ol.qpsk_tx.get_symbols, 0.05)\n",
    "ipw.VBox([cplot.get_widget(), ipw.HBox(dg.get_widget())])"
   ]
  },
  {
   "cell_type": "markdown",
   "metadata": {},
   "source": [
    "We can stream in more live data using the play/stop buttons.\n",
    "\n",
    "Alright, cool! But changing this signal instantaneously from -1 to 1 means there's a near infinite bandwidth (i.e. has components in all frequencies!). To help suppress this for successful transmission, we perform some `pulse shaping`.\n",
    "\n",
    "### Pulse shaping\n",
    "\n",
    "Next we make the same plot, but with data from after our pulse shaping unit. First we'll see this in the time domain, then we will look at the same signal in the frequency domain."
   ]
  },
  {
   "cell_type": "code",
   "execution_count": null,
   "metadata": {},
   "outputs": [],
   "source": [
    "iq_plot = sdr_plots.IQTimePlot(ol.qpsk_tx.get_many_shaped_time(N=10), 4000,w=800)\n",
    "iq_dg = dma_timer.DmaTimer(iq_plot.add_data, ol.qpsk_tx.get_shaped_time, 0.05)\n",
    "\n",
    "fa_plot = sdr_plots.HWFreqPlot(ol.qpsk_tx.get_shaped_fft(), 4000, avg_n=4,w=800)\n",
    "fa_dg = dma_timer.DmaTimer(fa_plot.add_frame, ol.qpsk_tx.get_shaped_fft, 0.3)\n",
    "\n",
    "tab1 = ipw.Tab([ipw.VBox([iq_plot.get_widget(), ipw.HBox(iq_dg.get_widget())]),\n",
    "                ipw.VBox([fa_plot.get_widget(), ipw.HBox(fa_dg.get_widget())])\n",
    "               ])\n",
    "tab1.set_title(0, 'Time domain')\n",
    "tab1.set_title(1, 'Frequency domain')\n",
    "tab1"
   ]
  },
  {
   "cell_type": "markdown",
   "metadata": {},
   "source": [
    "## Dynamic Control\n",
    "\n",
    "We can also use widgets to control our PL settings visually. For example, our mixer's NCO frequency and the gain of the signal.\n",
    "\n",
    "First, let's write some JSON that describes our settings and their valid ranges."
   ]
  },
  {
   "cell_type": "code",
   "execution_count": null,
   "metadata": {},
   "outputs": [],
   "source": [
    "import json\n",
    "\n",
    "schema_json = \"\"\"\n",
    "{\n",
    "  \"title\": \"TX Settings\",\n",
    "  \"type\": \"object\",\n",
    "  \"properties\": {\n",
    "    \"Freq\": {\n",
    "      \"description\": \"NCO Frequency (MHz)\",\n",
    "      \"type\": \"number\",\n",
    "      \"minimum\": 0.0,\n",
    "      \"maximum\": 100.0,\n",
    "      \"default\": 84.0\n",
    "    },\n",
    "    \"Gain\": {\n",
    "      \"description\": \"Relative Gain\",\n",
    "      \"type\": \"number\",\n",
    "      \"minimum\": 0.0,\n",
    "      \"maximum\": 1.0,\n",
    "      \"default\": 1\n",
    "    }\n",
    "  }\n",
    "}\n",
    "\"\"\"\n"
   ]
  },
  {
   "cell_type": "markdown",
   "metadata": {},
   "source": [
    "Now, let's define a function that will take a dictionary of these settings and apply them to our system. We must ensure that only one instance of this is run at a given time (using Python's `Lock()`) because our driver isn't thread safe (yet)."
   ]
  },
  {
   "cell_type": "code",
   "execution_count": null,
   "metadata": {},
   "outputs": [],
   "source": [
    "from threading import Thread, Lock\n",
    "\n",
    "tx_mutex = Lock()\n",
    "\n",
    "def update_tx_settings(config):\n",
    "    # Acquire lock for mutual exclusion on RF driver\n",
    "    if tx_mutex.acquire(blocking=False):\n",
    "        if 'Gain' in config:\n",
    "            ol.qpsk_tx.axi_qpsk_tx.output_gain = int(config['Gain']*(2**32-1))\n",
    "        if 'Freq' in config:\n",
    "            mixer_cfg = ol.dac_block.MixerSettings\n",
    "            mixer_cfg['Freq'] = config['Freq']\n",
    "            ol.dac_block.MixerSettings = mixer_cfg\n",
    "        tx_mutex.release()"
   ]
  },
  {
   "cell_type": "markdown",
   "metadata": {},
   "source": [
    "Finally we can make our widget and play with the values.\n",
    "\n",
    "See the effect of changing the gain in the FFT and time domain signal. The effect of the NCO mixer is a bit more subtle --- keep an eye out for a look of suppressed horror on Kenny's face as his receiver gets out of sync!"
   ]
  },
  {
   "cell_type": "code",
   "execution_count": null,
   "metadata": {},
   "outputs": [],
   "source": [
    "cfg = dict_widget.DictWidget(json.loads(schema_json))\n",
    "gui = cfg.interact(callback=update_tx_settings)\n",
    "display(gui)"
   ]
  },
  {
   "cell_type": "markdown",
   "metadata": {},
   "source": [
    "# QPSK Receiver\n",
    "\n",
    "Now that the transmitter is configured, we start to play with the receiver side.\n",
    "\n",
    "![Demo architecture](img/QPSK_system_block_diagrams_Rx_only.svg)"
   ]
  },
  {
   "cell_type": "markdown",
   "metadata": {},
   "source": [
    "## Config\n",
    "\n",
    "First, we configure the RF ADC block. The ADC tile's PLL is configured, and make sure to match the block's mixer frequency with the transmitting side! For us that's 84 MHz unless you've been playing with the sliders above..."
   ]
  },
  {
   "cell_type": "code",
   "execution_count": null,
   "metadata": {},
   "outputs": [],
   "source": [
    "ol.adc_block.MixerSettings = {\n",
    "    'CoarseMixFreq':  xrfdc.COARSE_MIX_BYPASS,\n",
    "    'EventSource':    xrfdc.EVNT_SRC_TILE,\n",
    "    'FineMixerScale': xrfdc.MIXER_SCALE_1P0,\n",
    "    'Freq':           84.0,\n",
    "    'MixerMode':      xrfdc.MIXER_MODE_R2C,\n",
    "    'MixerType':      xrfdc.MIXER_TYPE_FINE,\n",
    "    'PhaseOffset':    0.0\n",
    "}\n",
    "ol.adc_block.UpdateEvent(xrfdc.EVENT_MIXER)"
   ]
  },
  {
   "cell_type": "markdown",
   "metadata": {},
   "source": [
    "## Decimated signal\n",
    "\n",
    "Now we can start inspecting some of the received signals.\n",
    "Below, we can grab data from multiple parts of our RX signal path and plot them in the time domain, frequency domain, or as a constellation.\n",
    "\n",
    "Feel free to change the first line to swap between inspecting the raw signal after decimation, after coarse synchronisation, or after the RRC."
   ]
  },
  {
   "cell_type": "code",
   "execution_count": null,
   "metadata": {},
   "outputs": [],
   "source": [
    "taps = {\n",
    "    'Decimated': \n",
    "      {'get': ol.qpsk_rx.get_decimated,     'get_many': ol.qpsk_rx.get_many_decimated,    'fs':1024},\n",
    "    'RRCed': \n",
    "      {'get': ol.qpsk_rx.get_rrced,         'get_many': ol.qpsk_rx.get_many_rrced,         'fs':16384},\n",
    "    'CoarseSynced': \n",
    "      {'get': ol.qpsk_rx.get_coarse_synced, 'get_many': ol.qpsk_rx.get_many_coarse_synced, 'fs':4096}\n",
    "}"
   ]
  },
  {
   "cell_type": "code",
   "execution_count": null,
   "metadata": {},
   "outputs": [],
   "source": [
    "tap = 'Decimated'\n",
    "#     ^^^^^^^^^^^\n",
    "#    Pick between Decimated, CoarseSynced, RRCed, or Data"
   ]
  },
  {
   "cell_type": "code",
   "execution_count": null,
   "metadata": {},
   "outputs": [],
   "source": [
    "f=taps[tap]['get']\n",
    "fm=taps[tap]['get_many']\n",
    "fs=taps[tap]['fs']\n",
    "\n",
    "f_plot = sdr_plots.IQFreqPlot(fm(), fs)\n",
    "f_dg = dma_timer.DmaTimer(f_plot.add_frame, fm, 0.3)\n",
    "\n",
    "iq_plot = sdr_plots.IQTimePlot(fm(), fs, w=800)\n",
    "iq_dg = dma_timer.DmaTimer(iq_plot.add_data, f, 0.05)\n",
    "\n",
    "c_plot = sdr_plots.IQConstellationPlot(fm(), plotrange=(0, len(fm())-1), fade=True)\n",
    "c_dg = dma_timer.DmaTimer(c_plot.add_data, f, 0.05)\n",
    "\n",
    "tab1 = ipw.Tab([ipw.VBox([iq_plot.get_widget(), ipw.HBox(iq_dg.get_widget())]),\n",
    "                ipw.VBox([f_plot.get_widget(), ipw.HBox(f_dg.get_widget())]),\n",
    "                ipw.VBox([c_plot.get_widget(), ipw.HBox(c_dg.get_widget())]),])\n",
    "tab1.set_title(0, 'Time domain')\n",
    "tab1.set_title(1, 'Frequency domain')\n",
    "tab1.set_title(2, 'Constellation')\n",
    "tab1"
   ]
  },
  {
   "cell_type": "markdown",
   "metadata": {},
   "source": [
    "# Output data\n",
    "\n",
    "Finally we can plot a constellation of the final, synchronised signal, showing the 4 constellations expected of QPSK. The transparency of each sample represents its \"age\", as there in no explicit time axis for constellation plots. On our test system, ~20 frames per second is achievable."
   ]
  },
  {
   "cell_type": "code",
   "execution_count": null,
   "metadata": {},
   "outputs": [],
   "source": [
    "d=ol.qpsk_rx.get_many_data()\n",
    "fs=500\n",
    "\n",
    "iq_plot = sdr_plots.IQTimePlot(d, fs, w=800)\n",
    "iq_dg = dma_timer.DmaTimer(iq_plot.add_data, ol.qpsk_rx.get_data, 0.05)\n",
    "\n",
    "c_plot = sdr_plots.IQConstellationPlot(d, plotrange=(0, len(d)-1), fade=True)\n",
    "c_dg = dma_timer.DmaTimer(c_plot.add_data, ol.qpsk_rx.get_data, 0.05)\n",
    "\n",
    "tab1 = ipw.Tab([ipw.VBox([c_plot.get_widget(), ipw.HBox(c_dg.get_widget())]),\n",
    "                ipw.VBox([iq_plot.get_widget(), ipw.HBox(iq_dg.get_widget())])])\n",
    "tab1.set_title(0, 'Constellation')\n",
    "tab1.set_title(1, 'Time domain')\n",
    "tab1"
   ]
  }
 ],
 "metadata": {
  "kernelspec": {
   "display_name": "Python 3",
   "language": "python",
   "name": "python3"
  },
  "language_info": {
   "codemirror_mode": {
    "name": "ipython",
    "version": 3
   },
   "file_extension": ".py",
   "mimetype": "text/x-python",
   "name": "python",
   "nbconvert_exporter": "python",
   "pygments_lexer": "ipython3",
   "version": "3.6.5"
  }
 },
 "nbformat": 4,
 "nbformat_minor": 2
}
